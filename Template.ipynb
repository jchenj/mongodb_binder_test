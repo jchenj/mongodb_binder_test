{
 "cells": [
  {
   "cell_type": "markdown",
   "id": "274de9f1",
   "metadata": {},
   "source": [
    "### 1. Title\n",
    "Instructional text"
   ]
  },
  {
   "cell_type": "code",
   "execution_count": null,
   "id": "dad60e08",
   "metadata": {},
   "outputs": [],
   "source": [
    "# Write your code here "
   ]
  },
  {
   "cell_type": "code",
   "execution_count": null,
   "id": "0cdd13a7",
   "metadata": {},
   "outputs": [],
   "source": [
    "# Store the title of ---- here\n",
    "VAR = ---"
   ]
  },
  {
   "cell_type": "markdown",
   "id": "56c6c97a",
   "metadata": {},
   "source": [
    "#### <span style=\"color:blue\">Hints</span>\n",
    "- ADD1\n",
    "- ADD2\n",
    "- Related docs: ADD"
   ]
  },
  {
   "cell_type": "markdown",
   "id": "b080b4e7",
   "metadata": {},
   "source": [
    "#### <span style=\"color:green\">Answer</span>\n",
    "```python\n",
    "```"
   ]
  },
  {
   "cell_type": "code",
   "execution_count": null,
   "id": "9fbb26d9",
   "metadata": {},
   "outputs": [],
   "source": []
  },
  {
   "cell_type": "code",
   "execution_count": null,
   "id": "07506ab2",
   "metadata": {},
   "outputs": [],
   "source": []
  },
  {
   "cell_type": "code",
   "execution_count": null,
   "id": "d82e7644",
   "metadata": {},
   "outputs": [],
   "source": []
  }
 ],
 "metadata": {
  "kernelspec": {
   "display_name": "Python 3",
   "language": "python",
   "name": "python3"
  },
  "language_info": {
   "codemirror_mode": {
    "name": "ipython",
    "version": 3
   },
   "file_extension": ".py",
   "mimetype": "text/x-python",
   "name": "python",
   "nbconvert_exporter": "python",
   "pygments_lexer": "ipython3",
   "version": "3.8.8"
  }
 },
 "nbformat": 4,
 "nbformat_minor": 5
}
