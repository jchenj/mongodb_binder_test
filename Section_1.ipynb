{
 "cells": [
  {
   "cell_type": "markdown",
   "id": "e4dc08b9",
   "metadata": {},
   "source": [
    "# Section 1: Connecting to MongoDB & exploring your data"
   ]
  },
  {
   "cell_type": "markdown",
   "id": "af101949",
   "metadata": {},
   "source": [
    "<div class=\"alert alert-block alert-info\">\n",
    "   \n",
    "## Jupyter Notebook basics\n",
    "\n",
    "- Cells shaded grey are code cells. As you work through the lab, run all code cells in order.\n",
    "- Where there is code already in a cell, run it as written.\n",
    "- (To run code, press Shift + Enter or click the 'Run' button on the menu bar.)\n",
    "- Where a code cell contains the comment `#Write your code here`, write code to complete the task & then run it. If needed, consult the hints & answer to enter and run the correct entry for a task before moving on to the next task.\n",
    "- Not every command will result in visible output.\n",
    "- The non-code cells are written in the Markdown markup language. Double-clicking a Markdown cell will cause it to appear in raw Markdown format. To render as text again, run the cell just like running a code cell: press Shift + Enter or click the 'Run' button on the menu bar.  \n",
    "- If the the notebook becomes unresponsive, or if either the notebook or your code displays unexpected behavior, reset the notebook by choosing \"Kernal -> Restart & Clear Output\" from the menu bar. This will clear all memory objects in the notebook, stop any code running, and reset the notebook to its initial state. \n",
    "\n",
    "</div>\n"
   ]
  },
  {
   "cell_type": "markdown",
   "id": "2547afdd",
   "metadata": {},
   "source": [
    "## Introduction\n",
    "\n",
    "In this lab you'll use PyMongo, the Python driver for MongoDB, to connect to and work with a MongoDB database containing data on products sold on a hypothetical online store. \n",
    "\n",
    "**You can reference the tutorial for working with MongoDB with PyMongo at [this link](https://pymongo.readthedocs.io/en/stable/tutorial.html).** \n",
    "\n",
    "In this first section you'll connect to the database and begin exploring your data. Specifically, you'll:\n",
    "\n",
    "- Connect to a MongoDB instance using the `pymongo` Python driver\n",
    "- Print a list of all the databases on the MongoDB instance\n",
    "- Get a specific database & collection \n",
    "- Get a count of all of the documents in the collection\n",
    "- Print out all the items in the collection "
   ]
  },
  {
   "cell_type": "markdown",
   "id": "b3d71359",
   "metadata": {},
   "source": [
    "## Setup "
   ]
  },
  {
   "cell_type": "markdown",
   "id": "9ea5e85c",
   "metadata": {},
   "source": [
    "This environment has MongoDB installed, our starter data loaded, and `mongod` daemon process running. The PyMongo driver is also installed. (When you work on your own projects, you'll need to make sure to address these elements yourself.) "
   ]
  },
  {
   "cell_type": "markdown",
   "id": "78937d52",
   "metadata": {},
   "source": [
    "Before starting on the tasks below, run the following cell. It imports the Python `pprint` module and method, which you'll use to print output in a more readable format. "
   ]
  },
  {
   "cell_type": "code",
   "execution_count": null,
   "id": "06c9c169",
   "metadata": {},
   "outputs": [],
   "source": [
    "# Import the pprint method from the native Python pprint library\n",
    "from pprint import pprint"
   ]
  },
  {
   "cell_type": "markdown",
   "id": "295efd72",
   "metadata": {},
   "source": [
    "## Tasks"
   ]
  },
  {
   "cell_type": "markdown",
   "id": "76860839",
   "metadata": {},
   "source": [
    "### 1. Connect to the MongoDB instance"
   ]
  },
  {
   "cell_type": "code",
   "execution_count": null,
   "id": "a6f17f13",
   "metadata": {},
   "outputs": [],
   "source": [
    "# Replace the blanks with the missing code\n",
    "\n",
    "from pymongo import ____\n",
    "client = ____"
   ]
  },
  {
   "cell_type": "markdown",
   "id": "857d7452",
   "metadata": {},
   "source": [
    "#### <span style=\"color:blue\">Hints</span>\n",
    "- First import `MongoClient` from `pymongo`.\n",
    "- Then create a `MongoClient` instance."
   ]
  },
  {
   "cell_type": "markdown",
   "id": "3a265986",
   "metadata": {},
   "source": [
    "#### <span style=\"color:green\">Answer</span>\n",
    "```python\n",
    "from pymongo import MongoClient\n",
    "client = MongoClient()\n",
    "```"
   ]
  },
  {
   "cell_type": "markdown",
   "id": "19ce87a6",
   "metadata": {},
   "source": [
    "To confirm that you're connected to a MongoDB server, and to get information about the server you're connected to, run `client.server_info()`."
   ]
  },
  {
   "cell_type": "code",
   "execution_count": null,
   "id": "9ef978ef",
   "metadata": {},
   "outputs": [],
   "source": [
    "client.server_info()"
   ]
  },
  {
   "cell_type": "markdown",
   "id": "47ac0901",
   "metadata": {},
   "source": [
    "### 2. Print a list of all the databases on this MongoDB instance"
   ]
  },
  {
   "cell_type": "code",
   "execution_count": null,
   "id": "e679e0e9",
   "metadata": {},
   "outputs": [],
   "source": [
    "# Write your code here"
   ]
  },
  {
   "cell_type": "markdown",
   "id": "3e54226c",
   "metadata": {},
   "source": [
    "#### <span style=\"color:blue\">Hints</span>\n",
    "- Use `list_database_names()`.\n",
    "- Use a for loop to iterate through the database names.\n",
    "- Use `pprint` to print the output in a more readable format."
   ]
  },
  {
   "cell_type": "markdown",
   "id": "cc88ec0f",
   "metadata": {},
   "source": [
    "#### <span style=\"color:green\">Answer</span>\n",
    "```python\n",
    "for db in client.list_database_names():\n",
    "    pprint(db)\n",
    "```"
   ]
  },
  {
   "cell_type": "markdown",
   "id": "78892e19",
   "metadata": {},
   "source": [
    "### 3. Get the `store` database and `products` collection"
   ]
  },
  {
   "cell_type": "code",
   "execution_count": null,
   "id": "24460753",
   "metadata": {},
   "outputs": [],
   "source": [
    "# Write your code here"
   ]
  },
  {
   "cell_type": "markdown",
   "id": "514b2604",
   "metadata": {},
   "source": [
    "#### <span style=\"color:blue\">Hints</span>\n",
    "- This takes two lines of code.\n",
    "- First assign the database as an attribute on the client instance.\n",
    "- Then assign the collection as an attribute on the database."
   ]
  },
  {
   "cell_type": "markdown",
   "id": "b75b9317",
   "metadata": {},
   "source": [
    "#### <span style=\"color:green\">Answer</span>\n",
    "```python\n",
    "db = client.store\n",
    "collection = db.products\n",
    "```"
   ]
  },
  {
   "cell_type": "markdown",
   "id": "061bc22a",
   "metadata": {},
   "source": [
    "### 4. Get a count of all of the documents in the collection"
   ]
  },
  {
   "cell_type": "code",
   "execution_count": null,
   "id": "0d7ad7dc",
   "metadata": {},
   "outputs": [],
   "source": [
    "# Write your code here"
   ]
  },
  {
   "cell_type": "markdown",
   "id": "b09dd79a",
   "metadata": {},
   "source": [
    "#### <span style=\"color:blue\">Hints</span>\n",
    "- Use `count_documents()`.\n",
    "- `count_documents()` requires a filter argument. Use an empty object `{}` as the filter to count all documents."
   ]
  },
  {
   "cell_type": "markdown",
   "id": "51358311",
   "metadata": {},
   "source": [
    "#### <span style=\"color:green\">Answer</span>\n",
    "```python\n",
    "collection.count_documents({})\n",
    "```"
   ]
  },
  {
   "cell_type": "markdown",
   "id": "461c228f",
   "metadata": {},
   "source": [
    "### 5. Get all items in the collection "
   ]
  },
  {
   "cell_type": "code",
   "execution_count": null,
   "id": "26b13c71",
   "metadata": {},
   "outputs": [],
   "source": [
    "# Write your code here"
   ]
  },
  {
   "cell_type": "markdown",
   "id": "0bcd659c",
   "metadata": {},
   "source": [
    "#### <span style=\"color:blue\">Hints</span>\n",
    "- Use `find()`.\n",
    "- A filter argument is optional for `find()`."
   ]
  },
  {
   "cell_type": "markdown",
   "id": "e712f91c",
   "metadata": {},
   "source": [
    "#### <span style=\"color:green\">Answer</span>\n",
    "```python\n",
    "items = collection.find()\n",
    "```"
   ]
  },
  {
   "cell_type": "markdown",
   "id": "e0093e4c",
   "metadata": {},
   "source": [
    "### 6. Print out all the items in the collection "
   ]
  },
  {
   "cell_type": "code",
   "execution_count": null,
   "id": "810a44cb",
   "metadata": {},
   "outputs": [],
   "source": [
    "# Write your code here"
   ]
  },
  {
   "cell_type": "markdown",
   "id": "4c292199",
   "metadata": {},
   "source": [
    "#### <span style=\"color:blue\">Hints</span>\n",
    "- Use a for loop to iterate through the items.\n",
    "- Use `pprint` to print the output in a more readable format."
   ]
  },
  {
   "cell_type": "markdown",
   "id": "f2ea036e",
   "metadata": {},
   "source": [
    "#### <span style=\"color:green\">Answer</span>\n",
    "```python\n",
    "for item in items:\n",
    "    pprint(item)\n",
    "```"
   ]
  }
 ],
 "metadata": {
  "kernelspec": {
   "display_name": "Python 3",
   "language": "python",
   "name": "python3"
  },
  "language_info": {
   "codemirror_mode": {
    "name": "ipython",
    "version": 3
   },
   "file_extension": ".py",
   "mimetype": "text/x-python",
   "name": "python",
   "nbconvert_exporter": "python",
   "pygments_lexer": "ipython3",
   "version": "3.8.8"
  }
 },
 "nbformat": 4,
 "nbformat_minor": 5
}
