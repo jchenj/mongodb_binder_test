{
 "cells": [
  {
   "cell_type": "markdown",
   "id": "e4dc08b9",
   "metadata": {},
   "source": [
    "# Section 1: Connecting to MongoDB instance, printing all items in a given database & collection"
   ]
  },
  {
   "cell_type": "markdown",
   "id": "2547afdd",
   "metadata": {},
   "source": [
    "In this section you will:\n",
    "\n",
    "- Connect to a MongoDB instance using the `pymongo` Python driver\n",
    "- Print a list of all the databases on the MongoDB instance\n",
    "- Get a specific database & collection \n",
    "- Get a count of all of the documents in the collection\n",
    "- Print out all the items in the collection "
   ]
  },
  {
   "cell_type": "markdown",
   "id": "2cfd18f8",
   "metadata": {},
   "source": [
    "## Jupyter Notebook basics\n",
    "\n",
    "- The grey shaded cells are code cells. To run them, press Shift + Enter or click the 'Run' button on the menu bar.\n",
    "- Run all code cells in order. (If you need to, consult the hints & answer to enter and run the correct entry for a question before moving on to the next question.)\n",
    "- If you need to reset the notebook, choose \"Kernal -> Restart & clear output\" from the menu.\n"
   ]
  },
  {
   "cell_type": "markdown",
   "id": "b3d71359",
   "metadata": {},
   "source": [
    "## Setup "
   ]
  },
  {
   "cell_type": "markdown",
   "id": "96d96bc3",
   "metadata": {},
   "source": [
    "In this lab we will use the Python `pprint` module and method to print output in a more readable format. Import them by running the line of code below before contnuing. (No output will be printed from running this.)"
   ]
  },
  {
   "cell_type": "code",
   "execution_count": 4,
   "id": "06c9c169",
   "metadata": {},
   "outputs": [],
   "source": [
    "# Import the pprint method from the native pprint Python library to print output in an easier to ready format\n",
    "from pprint import pprint"
   ]
  },
  {
   "cell_type": "markdown",
   "id": "295efd72",
   "metadata": {},
   "source": [
    "## Tasks"
   ]
  },
  {
   "cell_type": "markdown",
   "id": "76860839",
   "metadata": {},
   "source": [
    "### 1. Connect to the MongoDB instance"
   ]
  },
  {
   "cell_type": "code",
   "execution_count": 3,
   "id": "a6f17f13",
   "metadata": {},
   "outputs": [],
   "source": [
    "# Write your code here"
   ]
  },
  {
   "cell_type": "markdown",
   "id": "857d7452",
   "metadata": {},
   "source": [
    "#### Hints\n",
    "- First import `MongoClient` from `pymongo`.\n",
    "- Then create a `MongoClient` instance."
   ]
  },
  {
   "cell_type": "markdown",
   "id": "3a265986",
   "metadata": {},
   "source": [
    "#### Answer\n",
    "```\n",
    "from pymongo import MongoClient\n",
    "client = MongoClient()\n",
    "```"
   ]
  },
  {
   "cell_type": "markdown",
   "id": "c94ef5a4",
   "metadata": {},
   "source": [
    "To confirm that you're connected to a MongoDB server, and to get information about the server you're connected to, run `client.server_info()`."
   ]
  },
  {
   "cell_type": "code",
   "execution_count": null,
   "id": "6442057a",
   "metadata": {},
   "outputs": [],
   "source": [
    "client.server_info()"
   ]
  },
  {
   "cell_type": "markdown",
   "id": "47ac0901",
   "metadata": {},
   "source": [
    "### 2. Print a list of all the databases on this MongoDB instance"
   ]
  },
  {
   "cell_type": "code",
   "execution_count": null,
   "id": "e679e0e9",
   "metadata": {},
   "outputs": [],
   "source": [
    "# Write your code here"
   ]
  },
  {
   "cell_type": "markdown",
   "id": "3e54226c",
   "metadata": {},
   "source": [
    "#### Hints\n",
    "- Use `list_database_names()`.\n",
    "- Use a for loop to iterate through the database names.\n",
    "- Use `pprint` to print the output in a more readable format."
   ]
  },
  {
   "cell_type": "markdown",
   "id": "cc88ec0f",
   "metadata": {},
   "source": [
    "#### Answer\n",
    "```\n",
    "for db in client.list_database_names():\n",
    "    pprint(db)\n",
    "```"
   ]
  },
  {
   "cell_type": "markdown",
   "id": "78892e19",
   "metadata": {},
   "source": [
    "### 3. Get the `store` database and `products` collection"
   ]
  },
  {
   "cell_type": "code",
   "execution_count": null,
   "id": "24460753",
   "metadata": {},
   "outputs": [],
   "source": [
    "# Write your code here"
   ]
  },
  {
   "cell_type": "markdown",
   "id": "514b2604",
   "metadata": {},
   "source": [
    "#### Hints\n",
    "- This takes two lines of code.\n",
    "- First access the database as an attribute on the client instance.\n",
    "- Then access the collection as an attribute on the database.\n",
    "- No output will be printed from running this."
   ]
  },
  {
   "cell_type": "markdown",
   "id": "b75b9317",
   "metadata": {},
   "source": [
    "#### Answer\n",
    "```\n",
    "db = client.store\n",
    "collection = db.products\n",
    "```"
   ]
  },
  {
   "cell_type": "markdown",
   "id": "061bc22a",
   "metadata": {},
   "source": [
    "### 4. Get a count of all of the documents in the collection"
   ]
  },
  {
   "cell_type": "code",
   "execution_count": null,
   "id": "0d7ad7dc",
   "metadata": {},
   "outputs": [],
   "source": [
    "# Write your code here"
   ]
  },
  {
   "cell_type": "markdown",
   "id": "b09dd79a",
   "metadata": {},
   "source": [
    "#### Hints\n",
    "- Use `count_documents()`.\n",
    "- `count_documents()` requires a filter argument. Use an empty object `{}` as the filter to count all documents."
   ]
  },
  {
   "cell_type": "markdown",
   "id": "51358311",
   "metadata": {},
   "source": [
    "#### Answer\n",
    "```\n",
    "collection.count_documents({})\n",
    "```"
   ]
  },
  {
   "cell_type": "markdown",
   "id": "461c228f",
   "metadata": {},
   "source": [
    "### 5. Get all items in the collection "
   ]
  },
  {
   "cell_type": "code",
   "execution_count": null,
   "id": "26b13c71",
   "metadata": {},
   "outputs": [],
   "source": [
    "# Write your code here"
   ]
  },
  {
   "cell_type": "markdown",
   "id": "0bcd659c",
   "metadata": {},
   "source": [
    "#### Hints\n",
    "- Use `find()`.\n",
    "- A filter argument is optional for `find()`.\n",
    "- No output will be printed from running this."
   ]
  },
  {
   "cell_type": "markdown",
   "id": "e712f91c",
   "metadata": {},
   "source": [
    "#### Answer\n",
    "```\n",
    "items = collection.find()\n",
    "```"
   ]
  },
  {
   "cell_type": "markdown",
   "id": "e0093e4c",
   "metadata": {},
   "source": [
    "### 6. Print out all the items in the collection "
   ]
  },
  {
   "cell_type": "code",
   "execution_count": null,
   "id": "810a44cb",
   "metadata": {},
   "outputs": [],
   "source": [
    "# Write your code here"
   ]
  },
  {
   "cell_type": "markdown",
   "id": "4c292199",
   "metadata": {},
   "source": [
    "#### Hints\n",
    "- Use a for loop to iterate through the items.\n",
    "- Use `pprint` to print the output in a more readable format."
   ]
  },
  {
   "cell_type": "markdown",
   "id": "f2ea036e",
   "metadata": {},
   "source": [
    "#### Answer\n",
    "```\n",
    "for item in items:\n",
    "    pprint(item)\n",
    "```"
   ]
  }
 ],
 "metadata": {
  "kernelspec": {
   "display_name": "Python 3",
   "language": "python",
   "name": "python3"
  },
  "language_info": {
   "codemirror_mode": {
    "name": "ipython",
    "version": 3
   },
   "file_extension": ".py",
   "mimetype": "text/x-python",
   "name": "python",
   "nbconvert_exporter": "python",
   "pygments_lexer": "ipython3",
   "version": "3.8.8"
  }
 },
 "nbformat": 4,
 "nbformat_minor": 5
}
