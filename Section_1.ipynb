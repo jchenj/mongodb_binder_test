{
 "cells": [
  {
   "cell_type": "markdown",
   "id": "514452ca",
   "metadata": {},
   "source": [
    "# Section 1"
   ]
  },
  {
   "cell_type": "markdown",
   "id": "6ba3699b",
   "metadata": {},
   "source": [
    "## Objectives \n",
    "In this section you will:\n",
    "\n",
    "- Connect to a MongoDB instance using the `pymongo` Python driver\n",
    "- Print a list of all the databases on the MongoDB instance\n",
    "- Get a specific database & collection \n",
    "- Get a count of all of the documents in the collection\n",
    "- Print out all the items in the collection "
   ]
  },
  {
   "cell_type": "markdown",
   "id": "af8d5016",
   "metadata": {},
   "source": [
    "## Setup "
   ]
  },
  {
   "cell_type": "code",
   "execution_count": 4,
   "id": "f6f18f1f",
   "metadata": {},
   "outputs": [],
   "source": [
    "# Import the pprint method from the native pprint Python library to print output in an easier to ready format\n",
    "from pprint import pprint"
   ]
  },
  {
   "cell_type": "markdown",
   "id": "57c33656",
   "metadata": {},
   "source": [
    "## Tasks"
   ]
  },
  {
   "cell_type": "markdown",
   "id": "b8d52b9b",
   "metadata": {},
   "source": [
    "### 1. Connect to the MongoDB instance"
   ]
  },
  {
   "cell_type": "code",
   "execution_count": null,
   "id": "39092bca",
   "metadata": {},
   "outputs": [],
   "source": [
    "# Write your code here"
   ]
  },
  {
   "cell_type": "markdown",
   "id": "39baa538",
   "metadata": {},
   "source": [
    "#### Hints\n",
    "- First import `MongoClient` from `pymongo`\n",
    "- Then create a `MongoClient` instance"
   ]
  },
  {
   "cell_type": "markdown",
   "id": "3f8a2494",
   "metadata": {},
   "source": [
    "#### Answer\n",
    "```\n",
    "from pymongo import MongoClient\n",
    "client = MongoClient()\n",
    "```"
   ]
  },
  {
   "cell_type": "markdown",
   "id": "04043851",
   "metadata": {},
   "source": [
    "### 2. Print a list of all the databases on this MongoDB instance"
   ]
  },
  {
   "cell_type": "code",
   "execution_count": null,
   "id": "b9cc3017",
   "metadata": {},
   "outputs": [],
   "source": [
    "# Write your code here"
   ]
  },
  {
   "cell_type": "markdown",
   "id": "28ea5587",
   "metadata": {},
   "source": [
    "#### Hints\n",
    "- Use `list_database_names()`\n",
    "- Use a for loop to iterate through the database names\n",
    "- Use `pprint` to print the output in a more readable format"
   ]
  },
  {
   "cell_type": "markdown",
   "id": "e8f59676",
   "metadata": {},
   "source": [
    "#### Answer\n",
    "```\n",
    "for db in client.list_database_names():\n",
    "    pprint(db)\n",
    "```"
   ]
  },
  {
   "cell_type": "markdown",
   "id": "b30b69f2",
   "metadata": {},
   "source": [
    "### 3. Get the `store` database and `products` collection"
   ]
  },
  {
   "cell_type": "code",
   "execution_count": null,
   "id": "b5bfdd72",
   "metadata": {},
   "outputs": [],
   "source": [
    "# Write your code here"
   ]
  },
  {
   "cell_type": "markdown",
   "id": "aa8c09c5",
   "metadata": {},
   "source": [
    "#### Hints\n",
    "- This takes two lines of code\n",
    "- First access the database as an attribute on the client instance\n",
    "- Then access the collection as an attribute on the database"
   ]
  },
  {
   "cell_type": "markdown",
   "id": "4fb5ba5f",
   "metadata": {},
   "source": [
    "#### Answer\n",
    "```\n",
    "db = client.store\n",
    "collection = db.products\n",
    "```"
   ]
  },
  {
   "cell_type": "markdown",
   "id": "f6246d87",
   "metadata": {},
   "source": [
    "### 4. Get a count of all of the documents in the collection"
   ]
  },
  {
   "cell_type": "code",
   "execution_count": null,
   "id": "642d7d9f",
   "metadata": {},
   "outputs": [],
   "source": [
    "# Write your code here"
   ]
  },
  {
   "cell_type": "markdown",
   "id": "4f290feb",
   "metadata": {},
   "source": [
    "#### Hints\n",
    "- Use `count_documents()`\n",
    "- `count_documents()` requires a filter argument. Use an empty object `{}` as the filter to count all documents."
   ]
  },
  {
   "cell_type": "markdown",
   "id": "93907b9f",
   "metadata": {},
   "source": [
    "#### Answer\n",
    "```\n",
    "collection.count_documents({})\n",
    "```"
   ]
  },
  {
   "cell_type": "markdown",
   "id": "5f3e1aef",
   "metadata": {},
   "source": [
    "### 5. Get all items in the collection "
   ]
  },
  {
   "cell_type": "code",
   "execution_count": null,
   "id": "c20ec4af",
   "metadata": {},
   "outputs": [],
   "source": [
    "# Write your code here"
   ]
  },
  {
   "cell_type": "markdown",
   "id": "e4943c55",
   "metadata": {},
   "source": [
    "#### Hint\n",
    "- Use `find()`"
   ]
  },
  {
   "cell_type": "markdown",
   "id": "05e531a5",
   "metadata": {},
   "source": [
    "#### Answer\n",
    "```\n",
    "items = collection.find()\n",
    "```"
   ]
  },
  {
   "cell_type": "markdown",
   "id": "2eb5a65a",
   "metadata": {},
   "source": [
    "### 6. Print out all the items in the collection "
   ]
  },
  {
   "cell_type": "code",
   "execution_count": null,
   "id": "eca64006",
   "metadata": {},
   "outputs": [],
   "source": [
    "# Write your code here"
   ]
  },
  {
   "cell_type": "markdown",
   "id": "9e85b23e",
   "metadata": {},
   "source": [
    "#### Hints\n",
    "- Use a for loop to iterate through the items\n",
    "- Use `pprint` to print the output in a more readable format"
   ]
  },
  {
   "cell_type": "markdown",
   "id": "b92b0165",
   "metadata": {},
   "source": [
    "#### Answer\n",
    "```\n",
    "for item in items:\n",
    "    pprint(item)\n",
    "```"
   ]
  }
 ],
 "metadata": {
  "kernelspec": {
   "display_name": "Python 3",
   "language": "python",
   "name": "python3"
  },
  "language_info": {
   "codemirror_mode": {
    "name": "ipython",
    "version": 3
   },
   "file_extension": ".py",
   "mimetype": "text/x-python",
   "name": "python",
   "nbconvert_exporter": "python",
   "pygments_lexer": "ipython3",
   "version": "3.8.8"
  }
 },
 "nbformat": 4,
 "nbformat_minor": 5
}
