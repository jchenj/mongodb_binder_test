{
 "cells": [
  {
   "cell_type": "markdown",
   "id": "e693002e",
   "metadata": {},
   "source": [
    "# Section 1"
   ]
  },
  {
   "cell_type": "markdown",
   "id": "03c66078",
   "metadata": {},
   "source": [
    "## Objectives \n",
    "In this section you will:\n",
    "\n",
    "- Connect to a MongoDB instance using the `pymongo` Python driver\n",
    "- Print a list of all the databases on the MongoDB instance\n",
    "- Get a specific database & collection \n",
    "- Get a count of all of the documents in the collection\n",
    "- Print out all the items in the collection "
   ]
  },
  {
   "cell_type": "markdown",
   "id": "8c9907bf",
   "metadata": {},
   "source": [
    "## Setup "
   ]
  },
  {
   "cell_type": "code",
   "execution_count": 4,
   "id": "c29496ce",
   "metadata": {},
   "outputs": [],
   "source": [
    "# Import the pprint method from the native pprint Python library to print output in an easier to ready format\n",
    "from pprint import pprint"
   ]
  },
  {
   "cell_type": "markdown",
   "id": "73d8f2cf",
   "metadata": {},
   "source": [
    "## Tasks"
   ]
  },
  {
   "cell_type": "markdown",
   "id": "7d4da1f1",
   "metadata": {},
   "source": [
    "### 1. Connect to the MongoDB instance"
   ]
  },
  {
   "cell_type": "code",
   "execution_count": null,
   "id": "e10aa5db",
   "metadata": {},
   "outputs": [],
   "source": [
    "# Write your code here"
   ]
  },
  {
   "cell_type": "markdown",
   "id": "ab5b9a9b",
   "metadata": {},
   "source": [
    "#### Hints\n",
    "- First import `MongoClient` from `pymongo`\n",
    "- Then create a `MongoClient` instance"
   ]
  },
  {
   "cell_type": "markdown",
   "id": "131ca9a0",
   "metadata": {},
   "source": [
    "#### Answer\n",
    "```\n",
    "from pymongo import MongoClient\n",
    "client = MongoClient()\n",
    "```"
   ]
  },
  {
   "cell_type": "markdown",
   "id": "e6734ec3",
   "metadata": {},
   "source": [
    "### 2. Print a list of all the databases on this MongoDB instance"
   ]
  },
  {
   "cell_type": "code",
   "execution_count": null,
   "id": "b33fcbfe",
   "metadata": {},
   "outputs": [],
   "source": [
    "# Write your code here"
   ]
  },
  {
   "cell_type": "markdown",
   "id": "58fa448f",
   "metadata": {},
   "source": [
    "#### Hints\n",
    "- Use `list_database_names()`\n",
    "- Use a for loop to iterate through the database names\n",
    "- Use `pprint` to print the output in a more readable format"
   ]
  },
  {
   "cell_type": "markdown",
   "id": "5a9cff0f",
   "metadata": {},
   "source": [
    "#### Answer\n",
    "```\n",
    "for db in client.list_database_names():\n",
    "    pprint(db)\n",
    "```"
   ]
  },
  {
   "cell_type": "markdown",
   "id": "3d9b29ec",
   "metadata": {},
   "source": [
    "### 3. Get the `store` database and `products` collection"
   ]
  },
  {
   "cell_type": "code",
   "execution_count": null,
   "id": "960fa9cf",
   "metadata": {},
   "outputs": [],
   "source": [
    "# Write your code here"
   ]
  },
  {
   "cell_type": "markdown",
   "id": "e3467ef4",
   "metadata": {},
   "source": [
    "#### Hints\n",
    "- This takes two lines of code\n",
    "- First access the database as an attribute on the client instance\n",
    "- Then access the collection as an attribute on the database"
   ]
  },
  {
   "cell_type": "markdown",
   "id": "7182fd49",
   "metadata": {},
   "source": [
    "#### Answer\n",
    "```\n",
    "db = client.store\n",
    "collection = db.products\n",
    "```"
   ]
  },
  {
   "cell_type": "markdown",
   "id": "3351e36c",
   "metadata": {},
   "source": [
    "### 4. Get a count of all of the documents in the collection"
   ]
  },
  {
   "cell_type": "code",
   "execution_count": null,
   "id": "cd1ba950",
   "metadata": {},
   "outputs": [],
   "source": [
    "# Write your code here"
   ]
  },
  {
   "cell_type": "markdown",
   "id": "860ca132",
   "metadata": {},
   "source": [
    "#### Hints\n",
    "- Use `count_documents()`\n",
    "- `count_documents()` requires a filter argument. Use an empty object `{}` as the filter to count all documents."
   ]
  },
  {
   "cell_type": "markdown",
   "id": "8f1574a8",
   "metadata": {},
   "source": [
    "#### Answer\n",
    "```\n",
    "collection.count_documents({})\n",
    "```"
   ]
  },
  {
   "cell_type": "markdown",
   "id": "bcd8a39f",
   "metadata": {},
   "source": [
    "### 5. Get all items in the collection "
   ]
  },
  {
   "cell_type": "code",
   "execution_count": null,
   "id": "a1ef971e",
   "metadata": {},
   "outputs": [],
   "source": [
    "# Write your code here"
   ]
  },
  {
   "cell_type": "markdown",
   "id": "69b58fc9",
   "metadata": {},
   "source": [
    "#### Hints\n",
    "- Use `find()`\n",
    "- A filter argument is optional for `find()`"
   ]
  },
  {
   "cell_type": "markdown",
   "id": "cf72fe35",
   "metadata": {},
   "source": [
    "#### Answer\n",
    "```\n",
    "items = collection.find()\n",
    "```"
   ]
  },
  {
   "cell_type": "markdown",
   "id": "eb008f57",
   "metadata": {},
   "source": [
    "### 6. Print out all the items in the collection "
   ]
  },
  {
   "cell_type": "code",
   "execution_count": null,
   "id": "75c1f47e",
   "metadata": {},
   "outputs": [],
   "source": [
    "# Write your code here"
   ]
  },
  {
   "cell_type": "markdown",
   "id": "2a23dc2f",
   "metadata": {},
   "source": [
    "#### Hints\n",
    "- Use a for loop to iterate through the items\n",
    "- Use `pprint` to print the output in a more readable format"
   ]
  },
  {
   "cell_type": "markdown",
   "id": "4dde1824",
   "metadata": {},
   "source": [
    "#### Answer\n",
    "```\n",
    "for item in items:\n",
    "    pprint(item)\n",
    "```"
   ]
  }
 ],
 "metadata": {
  "kernelspec": {
   "display_name": "Python 3",
   "language": "python",
   "name": "python3"
  },
  "language_info": {
   "codemirror_mode": {
    "name": "ipython",
    "version": 3
   },
   "file_extension": ".py",
   "mimetype": "text/x-python",
   "name": "python",
   "nbconvert_exporter": "python",
   "pygments_lexer": "ipython3",
   "version": "3.8.8"
  }
 },
 "nbformat": 4,
 "nbformat_minor": 5
}
