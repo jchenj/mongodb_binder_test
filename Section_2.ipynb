{
 "cells": [
  {
   "cell_type": "markdown",
   "id": "5c488756",
   "metadata": {},
   "source": [
    "# Section 2: Basic queries"
   ]
  },
  {
   "cell_type": "markdown",
   "id": "e345924a",
   "metadata": {},
   "source": [
    "<div class=\"alert alert-block alert-info\">\n",
    "   \n",
    "## Jupyter Notebook basics\n",
    "\n",
    "- **Code cells:** Cells shaded grey are code cells. As you work through the lab, run all code cells in order.\n",
    "- **Running code:** To run code, press Shift + Enter or click the 'Run' button on the menu bar. Where there is code already in a cell, run it as written. Where a code cell contains the comment `#Write your code here`, write code to complete the task & then run it. If needed, consult the hints & answer to enter and run the correct entry for a task before moving on to the next task. Not every command will result in visible output.\n",
    "- **Markdown cells:** The non-code cells are written in the Markdown markup language. Double-clicking a Markdown cell will cause it to appear in raw Markdown format. To render as text again, run the cell just like running a code cell: press Shift + Enter or click the 'Run' button on the menu bar.  \n",
    "- **Restarting kernal:** If the the notebook becomes unresponsive, or if either the notebook or your code displays unexpected behavior, reset the notebook by choosing \"Kernal -> Restart & Clear Output\" from the menu bar. This will clear all memory objects in the notebook, stop any code running, and reset the notebook to its initial state. \n",
    "- **Session timeout:** - Sessions will automatically shut down after about 10 minutes of inactivity. (If you leave a lab window open in the foreground, this will generally be counted as “activity”.) See Binder docs: [How long will my Binder session last?](https://mybinder.readthedocs.io/en/latest/about/about.html?highlight=session%20last#how-long-will-my-binder-session-last)\n",
    "\n",
    "</div>"
   ]
  },
  {
   "cell_type": "markdown",
   "id": "e135db78",
   "metadata": {},
   "source": [
    "## Introduction\n",
    "\n",
    "In this section you'll do basic queries using the `find_one()` and `find()` methods. Specifically, you'll:\n",
    "\n",
    "- Use `find_one()` to return a single document from a collection that satisfies the specified query criteria\n",
    "- Use `find()` to return retrieve all documents from a collection that satisfy the specified query criteria\n",
    "- Query a nested field\n",
    "- Query an array\n",
    "- Use a `projection` parameter to specify the fields to return in the documents that match the query filter"
   ]
  },
  {
   "cell_type": "markdown",
   "id": "6b1b527b",
   "metadata": {},
   "source": [
    "## Setup "
   ]
  },
  {
   "cell_type": "markdown",
   "id": "33850ba7",
   "metadata": {},
   "source": [
    "Before starting on the tasks below, run the following cells. "
   ]
  },
  {
   "cell_type": "markdown",
   "id": "ab9e6467",
   "metadata": {},
   "source": [
    "This sets up a new MongoDB client, connects it to the MongoDB server instance and sets up to query the `sample_mflix` database.  "
   ]
  },
  {
   "cell_type": "code",
   "execution_count": null,
   "id": "be2ebea7",
   "metadata": {},
   "outputs": [],
   "source": [
    "from pymongo import MongoClient\n",
    "client = MongoClient()\n",
    "db = client.sample_mflix"
   ]
  },
  {
   "cell_type": "markdown",
   "id": "58e38a42",
   "metadata": {},
   "source": [
    "This imports the Python `pprint` module and method, which you'll use to print the output in a more readable format. "
   ]
  },
  {
   "cell_type": "code",
   "execution_count": null,
   "id": "3ecd55bf",
   "metadata": {},
   "outputs": [],
   "source": [
    "# Import the pprint method from the native Python pprint library\n",
    "from pprint import pprint"
   ]
  },
  {
   "cell_type": "markdown",
   "id": "9195bf91",
   "metadata": {},
   "source": [
    "## Tasks"
   ]
  },
  {
   "cell_type": "markdown",
   "id": "7897294f",
   "metadata": {},
   "source": [
    "### 1.  Find one movie released in 2001\n",
    "If you are only interested in the first match for a given query, or if you know the database only contains one matching document, you can use `find_one()`."
   ]
  },
  {
   "cell_type": "code",
   "execution_count": null,
   "id": "eee313f2",
   "metadata": {},
   "outputs": [],
   "source": [
    "# Write your code here "
   ]
  },
  {
   "cell_type": "code",
   "execution_count": null,
   "id": "65d3a78d",
   "metadata": {},
   "outputs": [],
   "source": [
    "# Store the title of the movie here\n",
    "title = ---"
   ]
  },
  {
   "cell_type": "markdown",
   "id": "90c92d0a",
   "metadata": {},
   "source": [
    "#### <span style=\"color:blue\">Hints</span>\n",
    "- From the `movies` collection, use `find_one()` to retrieve a document where the `\"year\"` field equals `2001`. \n",
    "- Use `pprint` to print the output in a more readable format.\n",
    "- Related docs: [Getting a single document with `find_one()`](https://pymongo.readthedocs.io/en/stable/tutorial.html#getting-a-single-document-with-find-one)"
   ]
  },
  {
   "cell_type": "markdown",
   "id": "32f3b89b",
   "metadata": {},
   "source": [
    "#### <span style=\"color:green\">Answer</span>\n",
    "```python\n",
    "result = db.movies.find_one({\"year\" : 2001})\n",
    "pprint(result)\n",
    "\n",
    "title = \"Kate & Leopold\"\n",
    "```"
   ]
  },
  {
   "cell_type": "markdown",
   "id": "7b161ecf",
   "metadata": {},
   "source": [
    "### 2. In what year was the first \"Fantastic Four\" movie released?\n",
    "The database contains two movies with the title \"Fantastic Four\" Use `find()` to retrieve the data on both movies. From visually examining the output, find the year the first of them was released."
   ]
  },
  {
   "cell_type": "code",
   "execution_count": null,
   "id": "2f4bc77d",
   "metadata": {},
   "outputs": [],
   "source": [
    "# Write your code here "
   ]
  },
  {
   "cell_type": "code",
   "execution_count": null,
   "id": "675f7372",
   "metadata": {},
   "outputs": [],
   "source": [
    "# Store the release year here\n",
    "year = ---"
   ]
  },
  {
   "cell_type": "markdown",
   "id": "682b24c9",
   "metadata": {},
   "source": [
    "#### <span style=\"color:blue\">Hints</span>\n",
    "- From the `movies` collection, select documents where the `\"title\"` field's value is `\"Fantastic Four\"`. \n",
    "- `find()` returns a `Cursor` instance. Iterate over the cursor using a for loop. \n",
    "- Use `pprint` to print the output in a more readable format.\n",
    "- Related docs: [Querying for more than one document](https://pymongo.readthedocs.io/en/stable/tutorial.html#querying-for-more-than-one-document) "
   ]
  },
  {
   "cell_type": "code",
   "execution_count": null,
   "id": "060c7599",
   "metadata": {},
   "outputs": [],
   "source": [
    "#### <span style=\"color:green\">Answer</span>\n",
    "```python\n",
    "cursor = db.movies.find({\"title\" : \"Fantastic Four\"})\n",
    "\n",
    "for item in cursor:\n",
    "    pprint(item)\n",
    "\n",
    "year = 2005\n",
    "```"
   ]
  },
  {
   "cell_type": "markdown",
   "id": "5a73515a",
   "metadata": {},
   "source": [
    "### 3. What hour-long movies were released in 2003? \n",
    "Use `find()` to find the data on all movies with the specified year and runtime."
   ]
  },
  {
   "cell_type": "code",
   "execution_count": null,
   "id": "a80443a3",
   "metadata": {},
   "outputs": [],
   "source": [
    "# Write your code here "
   ]
  },
  {
   "cell_type": "code",
   "execution_count": null,
   "id": "dc3f1ffd",
   "metadata": {},
   "outputs": [],
   "source": [
    "# Store the movie titles here\n",
    "titles = []"
   ]
  },
  {
   "cell_type": "markdown",
   "id": "3824299d",
   "metadata": {},
   "source": [
    "#### <span style=\"color:blue\">Hints</span>\n",
    "- From the `movies` collection, select documents where the `\"year\"` field's value is `2003` and the `\"runtime\"` field's value is `60`. \n",
    "- `find()` returns a `Cursor` instance. Iterate over the cursor using a for loop. \n",
    "- Use `pprint` to print the output in a more readable format.\n",
    "- Related docs: [Querying for more than one document](https://pymongo.readthedocs.io/en/stable/tutorial.html#querying-for-more-than-one-document) "
   ]
  },
  {
   "cell_type": "markdown",
   "id": "aa516998",
   "metadata": {},
   "source": [
    "#### <span style=\"color:green\">Answer</span>\n",
    "```python\n",
    "cursor = db.movies.find({\"year\": 2003, \"runtime\": 60})\n",
    "\n",
    "for item in cursor:\n",
    "    pprint(item)\n",
    "    \n",
    "titles = [\"Cowards Bend the Knee or The Blue Hands\", \"Bill Maher: Victory Begins at Home\", \"Landscape\"]\n",
    "```"
   ]
  },
  {
   "cell_type": "markdown",
   "id": "a8eefdcd",
   "metadata": {},
   "source": [
    "### 4. Which movies have an average rating of 9.0 on IMDB? \n",
    "Use `find()` to return data on all movies that match the query. Include a  projecion parameter to return only the following fields: `title`, `imdb`, `year`, `plot`, `_id`."
   ]
  },
  {
   "cell_type": "code",
   "execution_count": null,
   "id": "d2c7f736",
   "metadata": {},
   "outputs": [],
   "source": [
    "# Write your code here "
   ]
  },
  {
   "cell_type": "code",
   "execution_count": null,
   "id": "9fceb5f0",
   "metadata": {},
   "outputs": [],
   "source": [
    "# Store the movie titles here\n",
    "titles = []"
   ]
  },
  {
   "cell_type": "markdown",
   "id": "48fdd2df",
   "metadata": {},
   "source": [
    "#### <span style=\"color:blue\">Hints</span>\n",
    "- Start by writing a query to select documents from the `movies` collection where the `\"imdb.rating\"` nested field equals `9.0`. \n",
    "- Add a projection document to the `find` query to specify the fields to be returned. \n",
    "- `find()` returns a `Cursor` instance. Iterate over the cursor using a for loop.\n",
    "- Use `pprint` to print the output in a more readable format.\n",
    "- Related docs: [Return the Specified Fields and the _id Field Only]( https://docs.mongodb.com/manual/tutorial/project-fields-from-query-results/#return-the-specified-fields-and-the-_id-field-only)"
   ]
  },
  {
   "cell_type": "markdown",
   "id": "e424f07a",
   "metadata": {},
   "source": [
    "#### <span style=\"color:green\">Answer</span>\n",
    "```python\n",
    "cursor = db.movies.find({\"imdb.rating\": 9.0}, {\"title\", \"imdb\", \"year\", \"plot\"})\n",
    "\n",
    "for item in cursor:\n",
    "    pprint(item)\n",
    "    \n",
    "titles = [\"North & South\", \"The Dark Knight\", \"The War\", \"Nature's Most Amazing Events\"]\n",
    "```"
   ]
  },
  {
   "cell_type": "markdown",
   "id": "40782a40",
   "metadata": {},
   "source": [
    "### 5. Which purely comedy movies include Hindi language? \n",
    "Use `find()` to return data on all movies that match the query. While the films can include languages other than Hindi, the genre should include Drama only.\n",
    "\n",
    "Use projection to only return the following fields: `title`, `year`, `languages`, `genres`, `plot`, and `_id`."
   ]
  },
  {
   "cell_type": "code",
   "execution_count": null,
   "id": "5f024d2b",
   "metadata": {},
   "outputs": [],
   "source": [
    "# Write your code here "
   ]
  },
  {
   "cell_type": "code",
   "execution_count": null,
   "id": "9ee28ce2",
   "metadata": {},
   "outputs": [],
   "source": [
    "# Store the title here of the first returned movie here\n",
    "title = ---"
   ]
  },
  {
   "cell_type": "markdown",
   "id": "5c5e6e27",
   "metadata": {},
   "source": [
    "#### <span style=\"color:blue\">Hints</span>\n",
    "- Start by writing a query to select documents from the `movies` collection where the value of the `genres\"` field is `[\"Comedy\"]` and the value of the `languages` field includes `\"Hindi\"`. \n",
    "- The values of `genres` and `languages` are arrays. \n",
    "- Add a projection document to the `find` query to specify the fields to be returned. \n",
    "- `find()` returns a `Cursor` instance. Iterate over the cursor using a for loop. \n",
    "- Use `pprint` to print the output in a more readable format.\n",
    "- Related docs:\n",
    "    - [Querying an array](https://docs.mongodb.com/manual/tutorial/query-arrays/)\n",
    "    - [Return the Specified Fields and the _id Field Only]( https://docs.mongodb.com/manual/tutorial/project-fields-from-query-results/#return-the-specified-fields-and-the-_id-field-only)\n"
   ]
  },
  {
   "cell_type": "markdown",
   "id": "090f293c",
   "metadata": {},
   "source": [
    "#### <span style=\"color:green\">Answer</span>\n",
    "```python\n",
    "cursor = db.movies.find({\"genres\" :  [\"Comedy\"], \"languages\": \"Hindi\"}, {\"title\", \"year\", \"languages\", \"genres\", \"plot\"})\n",
    "\n",
    "for item in cursor:\n",
    "    pprint(item)\n",
    "    \n",
    "title = \"Jodi No.1\"\n",
    "```"
   ]
  }
 ],
 "metadata": {
  "kernelspec": {
   "display_name": "Python 3",
   "language": "python",
   "name": "python3"
  },
  "language_info": {
   "codemirror_mode": {
    "name": "ipython",
    "version": 3
   },
   "file_extension": ".py",
   "mimetype": "text/x-python",
   "name": "python",
   "nbconvert_exporter": "python",
   "pygments_lexer": "ipython3",
   "version": "3.8.8"
  }
 },
 "nbformat": 4,
 "nbformat_minor": 5
}
