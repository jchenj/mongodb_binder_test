{
 "cells": [
  {
   "cell_type": "markdown",
   "id": "5c488756",
   "metadata": {},
   "source": [
    "# Section 2: Query with equality conditions"
   ]
  },
  {
   "cell_type": "markdown",
   "id": "e345924a",
   "metadata": {},
   "source": [
    "<div class=\"alert alert-block alert-info\">\n",
    "   \n",
    "## Jupyter Notebook basics\n",
    "\n",
    "- **Code cells** Cells shaded grey are code cells. As you work through the lab, run all code cells in order.\n",
    "- **Running code** To run code, press Shift + Enter or click the 'Run' button on the menu bar. Where there is code already in a cell, run it as written. Where a code cell contains the comment `#Write your code here`, write code to complete the task & then run it. If needed, consult the hints & answer to enter and run the correct entry for a task before moving on to the next task. Not every command will result in visible output.\n",
    "- **Markdown cells** The non-code cells are written in the Markdown markup language. Double-clicking a Markdown cell will cause it to appear in raw Markdown format. To render as text again, run the cell just like running a code cell: press Shift + Enter or click the 'Run' button on the menu bar.  \n",
    "- **Restarting kernal** If the the notebook becomes unresponsive, or if either the notebook or your code displays unexpected behavior, reset the notebook by choosing \"Kernal -> Restart & Clear Output\" from the menu bar. This will clear all memory objects in the notebook, stop any code running, and reset the notebook to its initial state. \n",
    "- **Session timeout** - Sessions will automatically shut down after about 10 minutes of inactivity. (If you leave a lab window open in the foreground, this will generally be counted as “activity”.) See Binder docs: [How long will my Binder session last?](https://mybinder.readthedocs.io/en/latest/about/about.html?highlight=session%20last#how-long-will-my-binder-session-last)\n",
    "\n",
    "</div>"
   ]
  },
  {
   "cell_type": "markdown",
   "id": "e135db78",
   "metadata": {},
   "source": [
    "## Introduction\n",
    "\n",
    "In this section you'll query documents using equality conditions with the PyMongo driver for MongoDB. Specifically, you'll:\n",
    "\n",
    "- Query using `find()`\n",
    "- Specify equality conditions\n",
    "- Project fields to return from a query\n",
    "\n",
    "**You can reference the tutorial for working with MongoDB with PyMongo at [this link](https://pymongo.readthedocs.io/en/stable/tutorial.html).** "
   ]
  },
  {
   "cell_type": "markdown",
   "id": "6b1b527b",
   "metadata": {},
   "source": [
    "## Setup "
   ]
  },
  {
   "cell_type": "code",
   "execution_count": null,
   "id": "8880efb6",
   "metadata": {},
   "outputs": [],
   "source": [
    "# Import the pprint method from the native Python pprint library\n",
    "from pprint import pprint"
   ]
  },
  {
   "cell_type": "code",
   "execution_count": null,
   "id": "be2ebea7",
   "metadata": {},
   "outputs": [],
   "source": [
    "from pymongo import MongoClient\n",
    "client = MongoClient()\n",
    "db = client.store"
   ]
  },
  {
   "cell_type": "markdown",
   "id": "9195bf91",
   "metadata": {},
   "source": [
    "## Tasks"
   ]
  },
  {
   "cell_type": "markdown",
   "id": "7897294f",
   "metadata": {},
   "source": [
    "### 1. Find the price of the JavaScript hoodie"
   ]
  },
  {
   "cell_type": "code",
   "execution_count": null,
   "id": "087a56f6",
   "metadata": {},
   "outputs": [],
   "source": [
    "# Write your code here "
   ]
  },
  {
   "cell_type": "markdown",
   "id": "90c92d0a",
   "metadata": {},
   "source": [
    "#### <span style=\"color:blue\">Hints</span>\n",
    "- See docs: \n",
    "- Get a single document using & equality condition \n",
    "- Can use findOne"
   ]
  },
  {
   "cell_type": "markdown",
   "id": "32f3b89b",
   "metadata": {},
   "source": [
    "#### <span style=\"color:green\">Answer</span>\n",
    "```python\n",
    "db.products.find({\"name\" : \"JavaScript Hoodie\"})\n",
    "```"
   ]
  },
  {
   "cell_type": "markdown",
   "id": "40782a40",
   "metadata": {},
   "source": [
    "### 2. Find all items that cost less than 30 dollars "
   ]
  },
  {
   "cell_type": "code",
   "execution_count": null,
   "id": "74590728",
   "metadata": {},
   "outputs": [],
   "source": [
    "# Write your code here "
   ]
  },
  {
   "cell_type": "markdown",
   "id": "5c5e6e27",
   "metadata": {},
   "source": [
    "#### <span style=\"color:blue\">Hints</span>\n",
    "- See docs: \n",
    "- Query docs using comparison operators\n",
    "- AND conditions"
   ]
  },
  {
   "cell_type": "markdown",
   "id": "090f293c",
   "metadata": {},
   "source": [
    "#### <span style=\"color:green\">Answer</span>\n",
    "```python\n",
    "cursor = db.products.find({\"price\" : {\"$lt\" : 30}})\n",
    "for item in cursor:\n",
    "    pprint(item)\n",
    "```"
   ]
  },
  {
   "cell_type": "markdown",
   "id": "2076e67a",
   "metadata": {},
   "source": [
    "### Find names & prices of all items are either a hat or hoodie. "
   ]
  },
  {
   "cell_type": "code",
   "execution_count": null,
   "id": "e5fae25a",
   "metadata": {},
   "outputs": [],
   "source": [
    "# Write your code here "
   ]
  },
  {
   "cell_type": "markdown",
   "id": "455176f1",
   "metadata": {},
   "source": [
    "#### <span style=\"color:blue\">Hints</span>\n",
    "- See docs: \n",
    "- Comparison operators - match any values in an array. Sort, project "
   ]
  },
  {
   "cell_type": "markdown",
   "id": "6ec8dd88",
   "metadata": {},
   "source": [
    "#### <span style=\"color:green\">Answer</span>\n",
    "```python\n",
    "items = db.products.find({\"category\" : {\"$in\": [\"Hat\", \"Hoodie\"]}}, {\"name\": 1, \"price\": 1, \"_id\": 0})\n",
    "for item in cursor:\n",
    "    pprint(item)\n",
    "```"
   ]
  },
  {
   "cell_type": "markdown",
   "id": "37593532",
   "metadata": {},
   "source": [
    "### Names & prices the 5 least expensive items, order them from least to most expensive "
   ]
  },
  {
   "cell_type": "code",
   "execution_count": null,
   "id": "4e730481",
   "metadata": {},
   "outputs": [],
   "source": [
    "# Write your code here "
   ]
  },
  {
   "cell_type": "markdown",
   "id": "f90dd8dc",
   "metadata": {},
   "source": [
    "#### <span style=\"color:blue\">Hints</span>\n",
    "- See docs: \n",
    "- Project, sort, limit"
   ]
  },
  {
   "cell_type": "markdown",
   "id": "7f7c4ee8",
   "metadata": {},
   "source": [
    "#### <span style=\"color:green\">Answer</span>\n",
    "```python\n",
    "items = db.products.find({}, {\"name\": 1, \"price\": 1, \"_id\": 0}).sort(\"price\").limit(5)\n",
    "for item in cursor:\n",
    "    pprint(item)\n",
    "```"
   ]
  }
 ],
 "metadata": {
  "kernelspec": {
   "display_name": "Python 3",
   "language": "python",
   "name": "python3"
  },
  "language_info": {
   "codemirror_mode": {
    "name": "ipython",
    "version": 3
   },
   "file_extension": ".py",
   "mimetype": "text/x-python",
   "name": "python",
   "nbconvert_exporter": "python",
   "pygments_lexer": "ipython3",
   "version": "3.8.8"
  }
 },
 "nbformat": 4,
 "nbformat_minor": 5
}
