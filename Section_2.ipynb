{
 "cells": [
  {
   "cell_type": "markdown",
   "id": "5c488756",
   "metadata": {},
   "source": [
    "# Section 2: Basic queries"
   ]
  },
  {
   "cell_type": "markdown",
   "id": "e345924a",
   "metadata": {},
   "source": [
    "<div class=\"alert alert-block alert-info\">\n",
    "   \n",
    "## Jupyter Notebook basics\n",
    "\n",
    "- **Code cells:** Cells shaded grey are code cells. As you work through the lab, run all code cells in order.\n",
    "- **Running code:** To run code, press Shift + Enter or click the 'Run' button on the menu bar. Where there is code already in a cell, run it as written. Where a code cell contains the comment `#Write your code here`, write code to complete the task & then run it. If needed, consult the hints & answer to enter and run the correct entry for a task before moving on to the next task. Not every command will result in visible output.\n",
    "- **Markdown cells:** The non-code cells are written in the Markdown markup language. Double-clicking a Markdown cell will cause it to appear in raw Markdown format. To render as text again, run the cell just like running a code cell: press Shift + Enter or click the 'Run' button on the menu bar.  \n",
    "- **Restarting kernal:** If the the notebook becomes unresponsive, or if either the notebook or your code displays unexpected behavior, reset the notebook by choosing \"Kernal -> Restart & Clear Output\" from the menu bar. This will clear all memory objects in the notebook, stop any code running, and reset the notebook to its initial state. \n",
    "- **Session timeout:** - Sessions will automatically shut down after about 10 minutes of inactivity. (If you leave a lab window open in the foreground, this will generally be counted as “activity”.) See Binder docs: [How long will my Binder session last?](https://mybinder.readthedocs.io/en/latest/about/about.html?highlight=session%20last#how-long-will-my-binder-session-last)\n",
    "\n",
    "</div>"
   ]
  },
  {
   "cell_type": "markdown",
   "id": "e135db78",
   "metadata": {},
   "source": [
    "## Introduction\n",
    "\n",
    "In this section you'll do basic queries using the `find()` method. Specifically, you'll:\n",
    "\n",
    "- Retrieve all documents from a collection \n",
    "- Retrieve specific documents from a collection using filter criteria\n",
    "- Project fields to return from a query"
   ]
  },
  {
   "cell_type": "markdown",
   "id": "6b1b527b",
   "metadata": {},
   "source": [
    "## Setup "
   ]
  },
  {
   "cell_type": "code",
   "execution_count": null,
   "id": "8880efb6",
   "metadata": {},
   "outputs": [],
   "source": [
    "# Import the pprint method from the native Python pprint library\n",
    "from pprint import pprint"
   ]
  },
  {
   "cell_type": "code",
   "execution_count": null,
   "id": "be2ebea7",
   "metadata": {},
   "outputs": [],
   "source": [
    "from pymongo import MongoClient\n",
    "client = MongoClient()\n",
    "db = client.sample_mflix\n",
    "collection = db.movies"
   ]
  },
  {
   "cell_type": "markdown",
   "id": "9195bf91",
   "metadata": {},
   "source": [
    "## Tasks"
   ]
  },
  {
   "cell_type": "markdown",
   "id": "7897294f",
   "metadata": {},
   "source": [
    "### 1.  Find one movie released in 2001\n",
    "If you are only interested in the first match for a given query, or if you know the database only contains one matching document, you can use `find_one()`."
   ]
  },
  {
   "cell_type": "code",
   "execution_count": null,
   "id": "eee313f2",
   "metadata": {},
   "outputs": [],
   "source": [
    "# Write your code here "
   ]
  },
  {
   "cell_type": "code",
   "execution_count": null,
   "id": "8e4e81dd",
   "metadata": {},
   "outputs": [],
   "source": [
    "# Store the title of the movie here\n",
    "title = ---"
   ]
  },
  {
   "cell_type": "markdown",
   "id": "90c92d0a",
   "metadata": {},
   "source": [
    "#### <span style=\"color:blue\">Hints</span>\n",
    "- TO REVISE\n",
    "- From the `products` collection, select documents where the `\"name\"` field equals `\"JavaScript Hoodie\"`. \n",
    "- Use the `find()` method. See docs: [Querying for more than one document](https://pymongo.readthedocs.io/en/stable/tutorial.html#querying-for-more-than-one-document) \n",
    "- `find()` returns a `Cursor` instance. Iterate over the cursor using a for loop. "
   ]
  },
  {
   "cell_type": "markdown",
   "id": "32f3b89b",
   "metadata": {},
   "source": [
    "#### <span style=\"color:green\">Answer</span>\n",
    "```python\n",
    "collection.find_one({\"year\" : 2001})\n",
    "\n",
    "title = \"Kate & Leopold\"\n",
    "```"
   ]
  },
  {
   "cell_type": "markdown",
   "id": "aac9e9c3",
   "metadata": {},
   "source": [
    "### 2. In what year was the first \"Fantastic Four\" movie released?\n",
    "The database contains two movies with the title \"Fantastic Four\" Use `find()` to get the data on both movies, and find the year the first of them was released."
   ]
  },
  {
   "cell_type": "code",
   "execution_count": null,
   "id": "f77d7984",
   "metadata": {},
   "outputs": [],
   "source": [
    "# Write your code here "
   ]
  },
  {
   "cell_type": "code",
   "execution_count": null,
   "id": "49210d3d",
   "metadata": {},
   "outputs": [],
   "source": [
    "# Store the release year here\n",
    "year = ---"
   ]
  },
  {
   "cell_type": "markdown",
   "id": "13ff3772",
   "metadata": {},
   "source": [
    "#### <span style=\"color:blue\">Hints</span>\n",
    "- TO REVISE\n",
    "- From the `products` collection, select documents where the `\"name\"` field equals `\"JavaScript Hoodie\"`. \n",
    "- Use the `find()` method. See docs: [Querying for more than one document](https://pymongo.readthedocs.io/en/stable/tutorial.html#querying-for-more-than-one-document) \n",
    "- `find()` returns a `Cursor` instance. Iterate over the cursor using a for loop. "
   ]
  },
  {
   "cell_type": "code",
   "execution_count": null,
   "id": "ae54591f",
   "metadata": {},
   "outputs": [],
   "source": [
    "#### <span style=\"color:green\">Answer</span>\n",
    "```python\n",
    "cursor = collection.find({\"title\" : \"Fantastic Four\"})\n",
    "\n",
    "for item in cursor:\n",
    "    pprint(item)\n",
    "\n",
    "year = 2005\n",
    "```"
   ]
  },
  {
   "cell_type": "markdown",
   "id": "5a73515a",
   "metadata": {},
   "source": [
    "### 3. What hour-long movies were released in 2003? \n",
    "Use `find()` to find the data on all movies with the specified year and runtime."
   ]
  },
  {
   "cell_type": "code",
   "execution_count": null,
   "id": "a80443a3",
   "metadata": {},
   "outputs": [],
   "source": [
    "# Write your code here "
   ]
  },
  {
   "cell_type": "code",
   "execution_count": null,
   "id": "d9ddf0d5",
   "metadata": {},
   "outputs": [],
   "source": [
    "# Store the movie titles here\n",
    "titles = []"
   ]
  },
  {
   "cell_type": "markdown",
   "id": "3824299d",
   "metadata": {},
   "source": [
    "#### <span style=\"color:blue\">Hints</span>\n",
    "- TO REVISE\n",
    "- From the `products` collection, select documents where the `\"category\"` field equals `\"Hoodie\"`. \n",
    "- Use the `find()` method. See docs: [Querying for more than one document](https://pymongo.readthedocs.io/en/stable/tutorial.html#querying-for-more-than-one-document) \n",
    "- `find()` returns a `Cursor` instance. Iterate over the cursor using a for loop. "
   ]
  },
  {
   "cell_type": "markdown",
   "id": "aa516998",
   "metadata": {},
   "source": [
    "#### <span style=\"color:green\">Answer</span>\n",
    "```python\n",
    "cursor = collection.find({\"year\": 2003, \"runtime\": 60})\n",
    "\n",
    "for item in cursor:\n",
    "    pprint(item)\n",
    "    \n",
    "titles = [\"Cowards Bend the Knee or The Blue Hands\", \"Bill Maher: Victory Begins at Home\", \"Landscape\"]\n",
    "```"
   ]
  },
  {
   "cell_type": "markdown",
   "id": "a8eefdcd",
   "metadata": {},
   "source": [
    "### 4. Which movies have an average rating of 9.0 on IMDB? \n",
    "Use `find()` to return data on all movies that match the query. Include a  projecion parameter to return only the following fields: `title`, `imdb`, `year`, `plot`, `_id`."
   ]
  },
  {
   "cell_type": "code",
   "execution_count": null,
   "id": "d2c7f736",
   "metadata": {},
   "outputs": [],
   "source": [
    "# Write your code here "
   ]
  },
  {
   "cell_type": "code",
   "execution_count": null,
   "id": "eaef735c",
   "metadata": {},
   "outputs": [],
   "source": [
    "# Store the movie titles here\n",
    "titles = []"
   ]
  },
  {
   "cell_type": "markdown",
   "id": "48fdd2df",
   "metadata": {},
   "source": [
    "#### <span style=\"color:blue\">Hints</span>\n",
    "- TO REVISE\n",
    "- Start by writing a query to select documents from the `products` collection where the `\"category\"` field equals `\"T-Shirt\"`. \n",
    "- Add a projection document to the `find` query to restrict the fields to be returned. See docs: [Return the Specified Fields and the _id Field Only]( https://docs.mongodb.com/manual/tutorial/project-fields-from-query-results/#return-the-specified-fields-and-the-_id-field-only)\n",
    "- `find()` returns a `Cursor` instance. Iterate over the cursor using a for loop. "
   ]
  },
  {
   "cell_type": "markdown",
   "id": "e424f07a",
   "metadata": {},
   "source": [
    "#### <span style=\"color:green\">Answer</span>\n",
    "```python\n",
    "cursor = collection.find({\"imdb.rating\": 9.0}, {\"title\", \"imdb\", \"year\", \"plot\"})\n",
    "\n",
    "for item in cursor:\n",
    "    pprint(item)\n",
    "    \n",
    "titles = [\"North & South\", \"The Dark Knight\", \"The War\", \"Nature's Most Amazing Events\"]\n",
    "```"
   ]
  },
  {
   "cell_type": "markdown",
   "id": "40782a40",
   "metadata": {},
   "source": [
    "### 5. Which purely comedy movies include Hindi language? \n",
    "While the films can include languages other than Hindi, the genre should include Drama only.\n",
    "\n",
    "Use projection to only return the following fields: `title`, `year`, `languages`, `genres`, `plot`, and `_id`."
   ]
  },
  {
   "cell_type": "code",
   "execution_count": null,
   "id": "5f024d2b",
   "metadata": {},
   "outputs": [],
   "source": [
    "# Write your code here "
   ]
  },
  {
   "cell_type": "code",
   "execution_count": null,
   "id": "2af53de4",
   "metadata": {},
   "outputs": [],
   "source": [
    "# Store the title here of the first returned movie here\n",
    "title = ---"
   ]
  },
  {
   "cell_type": "markdown",
   "id": "5c5e6e27",
   "metadata": {},
   "source": [
    "#### <span style=\"color:blue\">Hints</span>\n",
    "- TO REVISE\n",
    "- From the `products` collection, select documents where the `\"category\"` field equals `\"Sweather\"` and the `\"price\"` field equals 49. \n",
    "- Use the `find()` method. See docs: [Querying for more than one document](https://pymongo.readthedocs.io/en/stable/tutorial.html#querying-for-more-than-one-document) \n",
    "- `find()` returns a `Cursor` instance. Iterate over the cursor using a for loop. "
   ]
  },
  {
   "cell_type": "markdown",
   "id": "090f293c",
   "metadata": {},
   "source": [
    "#### <span style=\"color:green\">Answer</span>\n",
    "```python\n",
    "cursor = collection.find({\"genres\" :  [\"Comedy\"], \"languages\": \"Hindi\"}, {\"title\", \"year\", \"languages\", \"genres\", \"plot\"})\n",
    "\n",
    "for item in cursor:\n",
    "    pprint(item)\n",
    "    \n",
    "title = \"Jodi No.1\"\n",
    "```"
   ]
  }
 ],
 "metadata": {
  "kernelspec": {
   "display_name": "Python 3",
   "language": "python",
   "name": "python3"
  },
  "language_info": {
   "codemirror_mode": {
    "name": "ipython",
    "version": 3
   },
   "file_extension": ".py",
   "mimetype": "text/x-python",
   "name": "python",
   "nbconvert_exporter": "python",
   "pygments_lexer": "ipython3",
   "version": "3.8.8"
  }
 },
 "nbformat": 4,
 "nbformat_minor": 5
}
