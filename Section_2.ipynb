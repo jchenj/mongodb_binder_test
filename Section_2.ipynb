{
 "cells": [
  {
   "cell_type": "markdown",
   "id": "7b24b0ed",
   "metadata": {},
   "source": [
    "# Section 2: Query documents"
   ]
  },
  {
   "cell_type": "markdown",
   "id": "20a539ff",
   "metadata": {},
   "source": [
    "<div class=\"alert alert-block alert-info\">\n",
    "   \n",
    "## Jupyter Notebook basics\n",
    "\n",
    "- **Code cells** Cells shaded grey are code cells. As you work through the lab, run all code cells in order.\n",
    "- **Running code** To run code, press Shift + Enter or click the 'Run' button on the menu bar. Where there is code already in a cell, run it as written. Where a code cell contains the comment `#Write your code here`, write code to complete the task & then run it. If needed, consult the hints & answer to enter and run the correct entry for a task before moving on to the next task. Not every command will result in visible output.\n",
    "- **Markdown cells** The non-code cells are written in the Markdown markup language. Double-clicking a Markdown cell will cause it to appear in raw Markdown format. To render as text again, run the cell just like running a code cell: press Shift + Enter or click the 'Run' button on the menu bar.  \n",
    "- **Restarting kernal** If the the notebook becomes unresponsive, or if either the notebook or your code displays unexpected behavior, reset the notebook by choosing \"Kernal -> Restart & Clear Output\" from the menu bar. This will clear all memory objects in the notebook, stop any code running, and reset the notebook to its initial state. \n",
    "- **Session timeout** - Sessions will automatically shut down after about 10 minutes of inactivity. (If you leave a lab window open in the foreground, this will generally be counted as “activity”.) See Binder docs: [How long will my Binder session last?](https://mybinder.readthedocs.io/en/latest/about/about.html?highlight=session%20last#how-long-will-my-binder-session-last)\n",
    "\n",
    "</div>"
   ]
  },
  {
   "cell_type": "markdown",
   "id": "eb904ce7",
   "metadata": {},
   "source": [
    "## Introduction\n",
    "\n",
    "In this section you'll connect to the database and begin exploring your data. Specifically, you'll:\n",
    "\n",
    "**You can reference the tutorial for working with MongoDB with PyMongo at [this link](https://pymongo.readthedocs.io/en/stable/tutorial.html).** "
   ]
  },
  {
   "cell_type": "markdown",
   "id": "175b741a",
   "metadata": {},
   "source": [
    "## Setup \n",
    "\n",
    "To come"
   ]
  },
  {
   "cell_type": "markdown",
   "id": "a07b6384",
   "metadata": {},
   "source": [
    "## Tasks"
   ]
  },
  {
   "cell_type": "markdown",
   "id": "c54bbac4",
   "metadata": {},
   "source": [
    "### 1. Title "
   ]
  },
  {
   "cell_type": "markdown",
   "id": "8e9582c4",
   "metadata": {},
   "source": [
    "#### <span style=\"color:blue\">Hints</span>\n",
    "- See docs: "
   ]
  },
  {
   "cell_type": "code",
   "execution_count": 7,
   "id": "da613462",
   "metadata": {},
   "outputs": [
    {
     "ename": "SyntaxError",
     "evalue": "invalid syntax (<ipython-input-7-1c61d86b6b97>, line 2)",
     "output_type": "error",
     "traceback": [
      "\u001b[0;36m  File \u001b[0;32m\"<ipython-input-7-1c61d86b6b97>\"\u001b[0;36m, line \u001b[0;32m2\u001b[0m\n\u001b[0;31m    ```python\u001b[0m\n\u001b[0m    ^\u001b[0m\n\u001b[0;31mSyntaxError\u001b[0m\u001b[0;31m:\u001b[0m invalid syntax\n"
     ]
    }
   ],
   "source": [
    "#### <span style=\"color:green\">Answer</span>\n",
    "```python\n",
    "\n",
    "```"
   ]
  },
  {
   "cell_type": "markdown",
   "id": "851f9eb9",
   "metadata": {},
   "source": [
    "### 2. Title "
   ]
  },
  {
   "cell_type": "markdown",
   "id": "4231a0fd",
   "metadata": {},
   "source": [
    "#### <span style=\"color:blue\">Hints</span>\n",
    "- See docs: "
   ]
  },
  {
   "cell_type": "markdown",
   "id": "89be0deb",
   "metadata": {},
   "source": [
    "#### <span style=\"color:green\">Answer</span>\n",
    "```python\n",
    "\n",
    "```"
   ]
  },
  {
   "cell_type": "markdown",
   "id": "5400a8f8",
   "metadata": {},
   "source": [
    "### 3. Title "
   ]
  },
  {
   "cell_type": "markdown",
   "id": "8a2f6646",
   "metadata": {},
   "source": [
    "#### <span style=\"color:blue\">Hints</span>\n",
    "- See docs: "
   ]
  },
  {
   "cell_type": "markdown",
   "id": "6215f459",
   "metadata": {},
   "source": [
    "#### <span style=\"color:green\">Answer</span>\n",
    "```python\n",
    "\n",
    "```"
   ]
  },
  {
   "cell_type": "markdown",
   "id": "4fccadb4",
   "metadata": {},
   "source": [
    "### 4. Title "
   ]
  },
  {
   "cell_type": "markdown",
   "id": "224c7fc0",
   "metadata": {},
   "source": [
    "#### <span style=\"color:blue\">Hints</span>\n",
    "- See docs: "
   ]
  },
  {
   "cell_type": "markdown",
   "id": "0c2115b1",
   "metadata": {},
   "source": [
    "#### <span style=\"color:green\">Answer</span>\n",
    "```python\n",
    "\n",
    "```"
   ]
  }
 ],
 "metadata": {
  "kernelspec": {
   "display_name": "Python 3",
   "language": "python",
   "name": "python3"
  },
  "language_info": {
   "codemirror_mode": {
    "name": "ipython",
    "version": 3
   },
   "file_extension": ".py",
   "mimetype": "text/x-python",
   "name": "python",
   "nbconvert_exporter": "python",
   "pygments_lexer": "ipython3",
   "version": "3.8.8"
  }
 },
 "nbformat": 4,
 "nbformat_minor": 5
}
