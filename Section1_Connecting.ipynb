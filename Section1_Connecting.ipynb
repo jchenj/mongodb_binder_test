{
 "cells": [
  {
   "cell_type": "markdown",
   "id": "29c7fa26",
   "metadata": {},
   "source": [
    "# Section 1"
   ]
  },
  {
   "cell_type": "markdown",
   "id": "a58c85c5",
   "metadata": {},
   "source": [
    "## Objectives \n",
    "In this section you will:\n",
    "\n",
    "- Connect to a MongoDB instance using the `pymongo` Python driver\n",
    "- Print a list of all the databases on the MongoDB instance\n",
    "- Get a specific database & collection \n",
    "- Get a count of all of the documents in the collection\n",
    "- Print out all the items in the collection "
   ]
  },
  {
   "cell_type": "markdown",
   "id": "c8a7ac1c",
   "metadata": {},
   "source": [
    "## Setup "
   ]
  },
  {
   "cell_type": "code",
   "execution_count": 4,
   "id": "bab67261",
   "metadata": {},
   "outputs": [],
   "source": [
    "# Import the pprint method from the native pprint Python library to print output in an easier to ready format\n",
    "from pprint import pprint"
   ]
  },
  {
   "cell_type": "markdown",
   "id": "8b2686c5",
   "metadata": {},
   "source": [
    "## Tasks"
   ]
  },
  {
   "cell_type": "markdown",
   "id": "763db7b7",
   "metadata": {},
   "source": [
    "### 1. Connect to the MongoDB instance"
   ]
  },
  {
   "cell_type": "code",
   "execution_count": null,
   "id": "3a7d43af",
   "metadata": {},
   "outputs": [],
   "source": [
    "# Write your code here"
   ]
  },
  {
   "cell_type": "markdown",
   "id": "41c99dfc",
   "metadata": {},
   "source": [
    "#### Hints\n",
    "- First import `MongoClient` from `pymongo`\n",
    "- Then create a `MongoClient` instance"
   ]
  },
  {
   "cell_type": "markdown",
   "id": "347bbef7",
   "metadata": {},
   "source": [
    "#### Answer\n",
    "```\n",
    "from pymongo import MongoClient\n",
    "client = MongoClient()\n",
    "```"
   ]
  },
  {
   "cell_type": "markdown",
   "id": "5dcfe15f",
   "metadata": {},
   "source": [
    "### 2. Print a list of all the databases on this MongoDB instance"
   ]
  },
  {
   "cell_type": "code",
   "execution_count": null,
   "id": "3e1bc9df",
   "metadata": {},
   "outputs": [],
   "source": [
    "# Write your code here"
   ]
  },
  {
   "cell_type": "markdown",
   "id": "5e12d677",
   "metadata": {},
   "source": [
    "#### Hint\n",
    "- Use `list_database_names()`\n",
    "- Use a for loop to iterate through the database names\n",
    "- Use `pprint` to print the output in a more readable format"
   ]
  },
  {
   "cell_type": "markdown",
   "id": "55f0a9fc",
   "metadata": {},
   "source": [
    "#### Answer\n",
    "```\n",
    "for db in client.list_database_names():\n",
    "    pprint(db)\n",
    "```"
   ]
  },
  {
   "cell_type": "markdown",
   "id": "5c8996b4",
   "metadata": {},
   "source": [
    "### 3. Get the `store` database and `products` collection"
   ]
  },
  {
   "cell_type": "code",
   "execution_count": null,
   "id": "fd0ab9a1",
   "metadata": {},
   "outputs": [],
   "source": [
    "# Write your code here"
   ]
  },
  {
   "cell_type": "markdown",
   "id": "74553b3a",
   "metadata": {},
   "source": [
    "#### Hint\n",
    "- This takes two lines of code"
   ]
  },
  {
   "cell_type": "markdown",
   "id": "59b678fc",
   "metadata": {},
   "source": [
    "#### Answer\n",
    "```\n",
    "db = client.store\n",
    "collection = db.products\n",
    "```"
   ]
  },
  {
   "cell_type": "markdown",
   "id": "fc4829f0",
   "metadata": {},
   "source": [
    "### 4. Get a count of all of the documents in the collection"
   ]
  },
  {
   "cell_type": "code",
   "execution_count": null,
   "id": "f0636323",
   "metadata": {},
   "outputs": [],
   "source": [
    "# Write your code here"
   ]
  },
  {
   "cell_type": "markdown",
   "id": "ae2fe51f",
   "metadata": {},
   "source": [
    "#### Hint\n",
    "- Use `count_documents()`\n",
    "- `count_documents()` requires a filter argument. Use an empty object `{}` as the filter to count all documents."
   ]
  },
  {
   "cell_type": "markdown",
   "id": "1e57de6b",
   "metadata": {},
   "source": [
    "#### Answer\n",
    "```\n",
    "collection.count_documents({})\n",
    "```"
   ]
  },
  {
   "cell_type": "markdown",
   "id": "539919f4",
   "metadata": {},
   "source": [
    "### 5. Get all items in the collection "
   ]
  },
  {
   "cell_type": "code",
   "execution_count": null,
   "id": "d1a03939",
   "metadata": {},
   "outputs": [],
   "source": [
    "# Write your code here"
   ]
  },
  {
   "cell_type": "markdown",
   "id": "4b78107b",
   "metadata": {},
   "source": [
    "#### Hint\n",
    "- Use `find()`"
   ]
  },
  {
   "cell_type": "markdown",
   "id": "58daeffe",
   "metadata": {},
   "source": [
    "#### Answer\n",
    "```\n",
    "items = collection.find()\n",
    "```"
   ]
  },
  {
   "cell_type": "markdown",
   "id": "d29b338d",
   "metadata": {},
   "source": [
    "### 6. Print out all the items in the collection "
   ]
  },
  {
   "cell_type": "code",
   "execution_count": null,
   "id": "9fb9dd5f",
   "metadata": {},
   "outputs": [],
   "source": [
    "# Write your code here"
   ]
  },
  {
   "cell_type": "markdown",
   "id": "5fd02bc4",
   "metadata": {},
   "source": [
    "#### Hint\n",
    "- Use a for loop to iterate through the items\n",
    "- Use `pprint` to print the output in a more readable format"
   ]
  },
  {
   "cell_type": "markdown",
   "id": "a72e57a6",
   "metadata": {},
   "source": [
    "#### Answer\n",
    "```\n",
    "for item in items:\n",
    "    pprint(item)\n",
    "```"
   ]
  }
 ],
 "metadata": {
  "kernelspec": {
   "display_name": "Python 3",
   "language": "python",
   "name": "python3"
  },
  "language_info": {
   "codemirror_mode": {
    "name": "ipython",
    "version": 3
   },
   "file_extension": ".py",
   "mimetype": "text/x-python",
   "name": "python",
   "nbconvert_exporter": "python",
   "pygments_lexer": "ipython3",
   "version": "3.8.8"
  }
 },
 "nbformat": 4,
 "nbformat_minor": 5
}
