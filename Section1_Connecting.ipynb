{
 "cells": [
  {
   "cell_type": "code",
   "execution_count": null,
   "id": "7497a08e",
   "metadata": {},
   "outputs": [],
   "source": [
    "#What version of mongo are we running?\n",
    "!mongod --version"
   ]
  },
  {
   "cell_type": "code",
   "execution_count": null,
   "id": "8a33a620",
   "metadata": {},
   "outputs": [],
   "source": [
    "#Import data\n",
    "!mongoimport --db store --collection products --file products.json"
   ]
  },
  {
   "cell_type": "code",
   "execution_count": null,
   "id": "ea0096e7",
   "metadata": {},
   "outputs": [],
   "source": [
    "# Connect\n",
    "from pymongo import MongoClient"
   ]
  },
  {
   "cell_type": "code",
   "execution_count": null,
   "id": "44443d2f",
   "metadata": {},
   "outputs": [],
   "source": [
    "#If connecting to the default port, we can omit the port number parameter\n",
    "c = MongoClient()"
   ]
  },
  {
   "cell_type": "code",
   "execution_count": null,
   "id": "c67ddc5f",
   "metadata": {},
   "outputs": [],
   "source": [
    "#List the databases\n",
    "c.list_database_names()"
   ]
  },
  {
   "cell_type": "code",
   "execution_count": null,
   "id": "6a680e26",
   "metadata": {},
   "outputs": [],
   "source": [
    "# Get handle to db\n",
    "db = c.store"
   ]
  },
  {
   "cell_type": "code",
   "execution_count": null,
   "id": "f976aa51",
   "metadata": {},
   "outputs": [],
   "source": [
    "# Get handle to collection\n",
    "coll = db.products"
   ]
  },
  {
   "cell_type": "code",
   "execution_count": null,
   "id": "2b402f57",
   "metadata": {},
   "outputs": [],
   "source": [
    "#See if we can find something in the collection\n",
    "coll.find_one()"
   ]
  }
 ],
 "metadata": {
  "kernelspec": {
   "display_name": "Python 3",
   "language": "python",
   "name": "python3"
  },
  "language_info": {
   "codemirror_mode": {
    "name": "ipython",
    "version": 3
   },
   "file_extension": ".py",
   "mimetype": "text/x-python",
   "name": "python",
   "nbconvert_exporter": "python",
   "pygments_lexer": "ipython3",
   "version": "3.8.8"
  }
 },
 "nbformat": 4,
 "nbformat_minor": 5
}
