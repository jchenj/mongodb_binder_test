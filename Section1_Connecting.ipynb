{
 "cells": [
  {
   "cell_type": "markdown",
   "id": "9e9bb2d3",
   "metadata": {},
   "source": [
    "# Section 1"
   ]
  },
  {
   "cell_type": "markdown",
   "id": "fa28fe33",
   "metadata": {},
   "source": [
    "## Objectives \n",
    "In this section you will:\n",
    "\n",
    "- Connection to a MongoDB instance using the `pymongo` Python driver\n",
    "- Print a list of all the databases on the MongoDB instance\n",
    "- Get a database & collection \n",
    "- Get a count of all of the documents in a collection\n",
    "- Print out all the items in the collection "
   ]
  },
  {
   "cell_type": "markdown",
   "id": "3757fdc1",
   "metadata": {},
   "source": [
    "## Setup "
   ]
  },
  {
   "cell_type": "code",
   "execution_count": 4,
   "id": "88d60d64",
   "metadata": {},
   "outputs": [],
   "source": [
    "# Import the pprint method from the native pprint Python library to print output in an easier to ready format\n",
    "from pprint import pprint"
   ]
  },
  {
   "cell_type": "markdown",
   "id": "855ba944",
   "metadata": {},
   "source": [
    "## Tasks"
   ]
  },
  {
   "cell_type": "markdown",
   "id": "28504208",
   "metadata": {},
   "source": [
    "### 1. Connect to the MongoDB instance"
   ]
  },
  {
   "cell_type": "code",
   "execution_count": null,
   "id": "6c8a7852",
   "metadata": {},
   "outputs": [],
   "source": [
    "# Write your code here"
   ]
  },
  {
   "cell_type": "markdown",
   "id": "faea0407",
   "metadata": {},
   "source": [
    "#### Hints\n",
    "- First import `MongoClient` from `pymongo`\n",
    "- Then create a `MongoClient` instance"
   ]
  },
  {
   "cell_type": "markdown",
   "id": "1a02ec7c",
   "metadata": {},
   "source": [
    "#### Answer\n",
    "`from pymongo import MongoClient`\n",
    "`client = MongoClient()`"
   ]
  },
  {
   "cell_type": "markdown",
   "id": "80dc44f4",
   "metadata": {},
   "source": [
    "### 2. Print a list of all the databases on this MongoDB instance"
   ]
  },
  {
   "cell_type": "code",
   "execution_count": null,
   "id": "98f92795",
   "metadata": {},
   "outputs": [],
   "source": [
    "# Write your code here"
   ]
  },
  {
   "cell_type": "markdown",
   "id": "1679ddf6",
   "metadata": {},
   "source": [
    "#### Hint\n",
    "- Use `list_database_names()`\n",
    "- Use a for loop to iterate through the database names\n",
    "- Use `pprint` to print the output in a more readable format"
   ]
  },
  {
   "cell_type": "markdown",
   "id": "5cdaf017",
   "metadata": {},
   "source": [
    "#### Answer\n",
    "`for db in client.list_database_names():\n",
    "    pprint(db)`"
   ]
  },
  {
   "cell_type": "markdown",
   "id": "75827cc3",
   "metadata": {},
   "source": [
    "### 3. Get the `store` database and `products` collection"
   ]
  },
  {
   "cell_type": "code",
   "execution_count": null,
   "id": "8600b727",
   "metadata": {},
   "outputs": [],
   "source": [
    "# Write your code here"
   ]
  },
  {
   "cell_type": "markdown",
   "id": "5a9ea79f",
   "metadata": {},
   "source": [
    "#### Hint\n",
    "- This takes two lines of code"
   ]
  },
  {
   "cell_type": "markdown",
   "id": "a2b6736f",
   "metadata": {},
   "source": [
    "#### Answer\n",
    "`db = client.store`\n",
    "`collection = db.products`"
   ]
  },
  {
   "cell_type": "markdown",
   "id": "e712c0d5",
   "metadata": {},
   "source": [
    "### 4. Get a count of all of the documents in the collection"
   ]
  },
  {
   "cell_type": "code",
   "execution_count": null,
   "id": "7c3ee86c",
   "metadata": {},
   "outputs": [],
   "source": [
    "# Write your code here"
   ]
  },
  {
   "cell_type": "markdown",
   "id": "ab749d91",
   "metadata": {},
   "source": [
    "#### Hint\n",
    "- Use `count_documents()`\n",
    "- `count_documents()` requires a filter argument. Use an empty object `{}` as the filter to count all documents."
   ]
  },
  {
   "cell_type": "markdown",
   "id": "9904e90f",
   "metadata": {},
   "source": [
    "#### Answer\n",
    "`collection.count_documents({})`"
   ]
  },
  {
   "cell_type": "markdown",
   "id": "89e50456",
   "metadata": {},
   "source": [
    "### 5. Get all items in the collection "
   ]
  },
  {
   "cell_type": "code",
   "execution_count": null,
   "id": "3928f011",
   "metadata": {},
   "outputs": [],
   "source": [
    "# Write your code here"
   ]
  },
  {
   "cell_type": "markdown",
   "id": "da63fd50",
   "metadata": {},
   "source": [
    "#### Hint\n",
    "- Use `find()`"
   ]
  },
  {
   "cell_type": "markdown",
   "id": "40e1d816",
   "metadata": {},
   "source": [
    "#### Answer\n",
    "`items = collection.find()`"
   ]
  },
  {
   "cell_type": "markdown",
   "id": "29aa5456",
   "metadata": {},
   "source": [
    "### 6. Print out all the items in the collection "
   ]
  },
  {
   "cell_type": "code",
   "execution_count": null,
   "id": "ed44fca4",
   "metadata": {},
   "outputs": [],
   "source": [
    "# Write your code here"
   ]
  },
  {
   "cell_type": "markdown",
   "id": "af5d11d7",
   "metadata": {},
   "source": [
    "#### Hint\n",
    "- Use a for loop to iterate through the items\n",
    "- Use `pprint` to print the output in a more readable format"
   ]
  },
  {
   "cell_type": "markdown",
   "id": "7a8d1895",
   "metadata": {},
   "source": [
    "#### Answer\n",
    "`for item in items:\n",
    "    pprint(item)`"
   ]
  }
 ],
 "metadata": {
  "kernelspec": {
   "display_name": "Python 3",
   "language": "python",
   "name": "python3"
  },
  "language_info": {
   "codemirror_mode": {
    "name": "ipython",
    "version": 3
   },
   "file_extension": ".py",
   "mimetype": "text/x-python",
   "name": "python",
   "nbconvert_exporter": "python",
   "pygments_lexer": "ipython3",
   "version": "3.8.8"
  }
 },
 "nbformat": 4,
 "nbformat_minor": 5
}
