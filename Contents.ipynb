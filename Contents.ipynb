{
 "cells": [
  {
   "cell_type": "markdown",
   "id": "da2f56d8",
   "metadata": {},
   "source": [
    "# MongoDB lab"
   ]
  },
  {
   "cell_type": "markdown",
   "id": "ff6153bb",
   "metadata": {},
   "source": [
    "[Section 1: Connecting to MongoDB & exploring your data](Section_1.ipynb)\n",
    "[Section 2: Querying documents](Section_2.ipynb)"
   ]
  }
 ],
 "metadata": {
  "kernelspec": {
   "display_name": "Python 3",
   "language": "python",
   "name": "python3"
  },
  "language_info": {
   "codemirror_mode": {
    "name": "ipython",
    "version": 3
   },
   "file_extension": ".py",
   "mimetype": "text/x-python",
   "name": "python",
   "nbconvert_exporter": "python",
   "pygments_lexer": "ipython3",
   "version": "3.8.8"
  }
 },
 "nbformat": 4,
 "nbformat_minor": 5
}
