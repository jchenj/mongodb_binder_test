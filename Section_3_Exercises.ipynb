{
 "cells": [
  {
   "cell_type": "markdown",
   "id": "c4546159",
   "metadata": {},
   "source": [
    "# Section 3: More complex queries"
   ]
  },
  {
   "cell_type": "markdown",
   "id": "21f22547",
   "metadata": {},
   "source": [
    "<div class=\"alert alert-block alert-info\">\n",
    "   \n",
    "## Jupyter Notebook basics\n",
    "\n",
    "- **Code cells:** Cells shaded grey are code cells. As you work through the lab, run all code cells in order.\n",
    "- **Running code:** To run code, press Shift + Enter or click the 'Run' button on the menu bar. Where there is code already in a cell, run it as written. Where a code cell contains the comment `#Write your code here`, write code to complete the task & then run it. If needed, consult the hints & answer to enter and run the correct entry for a task before moving on to the next task. Not every command will result in visible output.\n",
    "- **Markdown cells:** The non-code cells are written in the Markdown markup language. Double-clicking a Markdown cell will cause it to appear in raw Markdown format. To render as text again, run the cell just like running a code cell: press Shift + Enter or click the 'Run' button on the menu bar.  \n",
    "- **Restarting kernel:** If the notebook becomes unresponsive, or if either the notebook or your code displays unexpected behavior, reset the notebook by choosing \"Kernel -> Restart & Clear Output\" from the menu bar. This will clear all memory objects in the notebook, stop any code running, and reset the notebook to its initial state. \n",
    "- **Session timeout:** Sessions will automatically shut down after about 10 minutes of inactivity. (If you leave a lab window open in the foreground, this will generally be counted as “activity”.) See Binder docs: [How long will my Binder session last?](https://mybinder.readthedocs.io/en/latest/about/about.html?highlight=session%20last#how-long-will-my-binder-session-last)\n",
    "\n",
    "</div>"
   ]
  },
  {
   "cell_type": "markdown",
   "id": "4b947ae8",
   "metadata": {},
   "source": [
    "## Introduction\n",
    "\n",
    "In this section you'll do more complex queries using the `find()` methods. Specifically, you'll:\n",
    "\n",
    "- Query collections using comparison operators\n",
    "- Query collections using AND and OR conditions\n",
    "- Iterate over cursor results using `skip()`, `limit()` and `sort()`"
   ]
  },
  {
   "cell_type": "markdown",
   "id": "5b1d674e",
   "metadata": {},
   "source": [
    "## Setup \n",
    "\n",
    "Before starting on the tasks below, run the following cells. \n",
    "\n",
    "This sets up a new MongoDB client, connects it to the MongoDB server instance and sets up to query the `sample_mflix` database.  "
   ]
  },
  {
   "cell_type": "code",
   "execution_count": null,
   "id": "5e6268d5",
   "metadata": {},
   "outputs": [],
   "source": [
    "from pymongo import MongoClient\n",
    "client = MongoClient()\n",
    "db = client.sample_mflix"
   ]
  },
  {
   "cell_type": "markdown",
   "id": "6fad5214",
   "metadata": {},
   "source": [
    "Run the cell below, which imports the Python `pprint` module and method. You'll use `pprint` to print output in a more readable format. "
   ]
  },
  {
   "cell_type": "code",
   "execution_count": null,
   "id": "1e566063",
   "metadata": {},
   "outputs": [],
   "source": [
    "# Import the pprint method from the native Python pprint library\n",
    "from pprint import pprint"
   ]
  },
  {
   "cell_type": "markdown",
   "id": "c6900d05",
   "metadata": {},
   "source": [
    "## Tasks"
   ]
  },
  {
   "cell_type": "markdown",
   "id": "a515ef2d",
   "metadata": {},
   "source": [
    "### 1. Query using a comparison operator\n",
    "The database contains one movie that's more than 800 minutes long. Use `find()` with a comparison operator to return all data on this movie. "
   ]
  },
  {
   "cell_type": "code",
   "execution_count": null,
   "id": "2d2366f0",
   "metadata": {},
   "outputs": [],
   "source": [
    "# Write your code here "
   ]
  },
  {
   "cell_type": "markdown",
   "id": "ce2e6da9",
   "metadata": {},
   "source": [
    "#### <span style=\"color:blue\">Hints</span>\n",
    "- TO ADD1\n",
    "- TO ADD2\n",
    "- Related docs: [Comparison Query Operators](https://docs.mongodb.com/manual/reference/operator/query-comparison/)"
   ]
  },
  {
   "cell_type": "markdown",
   "id": "5284b823",
   "metadata": {},
   "source": [
    "### 2. Query using multiple comparison operators\n",
    "Return all data on movies with more than ten award wins and an IMDB rating of greater than 8.5 from 2014. "
   ]
  },
  {
   "cell_type": "code",
   "execution_count": null,
   "id": "302a2fd2",
   "metadata": {},
   "outputs": [],
   "source": [
    "# Write your code here "
   ]
  },
  {
   "cell_type": "markdown",
   "id": "18a2c57d",
   "metadata": {},
   "source": [
    "#### <span style=\"color:blue\">Hints</span>\n",
    "- ADD1\n",
    "- ADD2\n",
    "- Related docs: [Comparison Query Operators](https://docs.mongodb.com/manual/reference/operator/query-comparison/)"
   ]
  },
  {
   "cell_type": "markdown",
   "id": "3595502d",
   "metadata": {},
   "source": [
    "### 3. Title\n",
    "Instructional text"
   ]
  },
  {
   "cell_type": "code",
   "execution_count": null,
   "id": "5636556d",
   "metadata": {},
   "outputs": [],
   "source": [
    "# Write your code here "
   ]
  },
  {
   "cell_type": "code",
   "execution_count": null,
   "id": "26c588d4",
   "metadata": {},
   "outputs": [],
   "source": [
    "# Store the title of ---- here\n",
    "VAR = ---"
   ]
  },
  {
   "cell_type": "code",
   "execution_count": null,
   "id": "72cfed34",
   "metadata": {},
   "outputs": [],
   "source": [
    "#### <span style=\"color:blue\">Hints</span>\n",
    "- ADD1\n",
    "- ADD2\n",
    "- Related docs: ADD"
   ]
  }
 ],
 "metadata": {
  "kernelspec": {
   "display_name": "Python 3",
   "language": "python",
   "name": "python3"
  },
  "language_info": {
   "codemirror_mode": {
    "name": "ipython",
    "version": 3
   },
   "file_extension": ".py",
   "mimetype": "text/x-python",
   "name": "python",
   "nbconvert_exporter": "python",
   "pygments_lexer": "ipython3",
   "version": "3.8.8"
  }
 },
 "nbformat": 4,
 "nbformat_minor": 5
}
